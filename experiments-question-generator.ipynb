{
 "cells": [
  {
   "cell_type": "markdown",
   "metadata": {},
   "source": [
    "# Experiments\n",
    "\n",
    "## Overview\n",
    "This notebook contains preliminary experiments comparing different AI agent configurations. Each scenario will use identical study material input.\n",
    "\n",
    "## Scenarios\n",
    "There will be 4 scenarios:\n",
    "1. **Single agent 0-shot**: One agent with no examples provided\n",
    "2. **Single agent 1-shot**: One agent with one example provided\n",
    "3. **Multi-agent 0-shot**: Two agents (question generator and evaluator) with no examples, using manual agent orchestration\n",
    "4. **Multi-agent 1-shot**: Two agents with one example, using manual agent orchestration\n",
    "\n",
    "## Methodology\n",
    "- Each scenario will have same study material input\n",
    "- Each scenario will be run once as this is a preliminary study\n",
    "- The multi-agent scenarios will utilize the crewAI framework\n",
    "- Results will be compared qualitatively rather than statistically\n"
   ]
  },
  {
   "cell_type": "code",
   "execution_count": 1,
   "metadata": {},
   "outputs": [
    {
     "name": "stdout",
     "output_type": "stream",
     "text": [
      "Requirement already satisfied: google-genai in /Users/vh19/.pyenv/versions/3.12.6/lib/python3.12/site-packages (1.9.0)\n",
      "Requirement already satisfied: anyio<5.0.0,>=4.8.0 in /Users/vh19/.pyenv/versions/3.12.6/lib/python3.12/site-packages (from google-genai) (4.9.0)\n",
      "Requirement already satisfied: google-auth<3.0.0,>=2.14.1 in /Users/vh19/.pyenv/versions/3.12.6/lib/python3.12/site-packages (from google-genai) (2.38.0)\n",
      "Requirement already satisfied: httpx<1.0.0,>=0.28.1 in /Users/vh19/.pyenv/versions/3.12.6/lib/python3.12/site-packages (from google-genai) (0.28.1)\n",
      "Requirement already satisfied: pydantic<3.0.0,>=2.0.0 in /Users/vh19/.pyenv/versions/3.12.6/lib/python3.12/site-packages (from google-genai) (2.11.1)\n",
      "Requirement already satisfied: requests<3.0.0,>=2.28.1 in /Users/vh19/.pyenv/versions/3.12.6/lib/python3.12/site-packages (from google-genai) (2.32.3)\n",
      "Requirement already satisfied: websockets<15.1.0,>=13.0.0 in /Users/vh19/.pyenv/versions/3.12.6/lib/python3.12/site-packages (from google-genai) (15.0.1)\n",
      "Requirement already satisfied: typing-extensions<5.0.0,>=4.11.0 in /Users/vh19/.pyenv/versions/3.12.6/lib/python3.12/site-packages (from google-genai) (4.13.0)\n",
      "Requirement already satisfied: idna>=2.8 in /Users/vh19/.pyenv/versions/3.12.6/lib/python3.12/site-packages (from anyio<5.0.0,>=4.8.0->google-genai) (3.10)\n",
      "Requirement already satisfied: sniffio>=1.1 in /Users/vh19/.pyenv/versions/3.12.6/lib/python3.12/site-packages (from anyio<5.0.0,>=4.8.0->google-genai) (1.3.1)\n",
      "Requirement already satisfied: cachetools<6.0,>=2.0.0 in /Users/vh19/.pyenv/versions/3.12.6/lib/python3.12/site-packages (from google-auth<3.0.0,>=2.14.1->google-genai) (5.5.2)\n",
      "Requirement already satisfied: pyasn1-modules>=0.2.1 in /Users/vh19/.pyenv/versions/3.12.6/lib/python3.12/site-packages (from google-auth<3.0.0,>=2.14.1->google-genai) (0.4.2)\n",
      "Requirement already satisfied: rsa<5,>=3.1.4 in /Users/vh19/.pyenv/versions/3.12.6/lib/python3.12/site-packages (from google-auth<3.0.0,>=2.14.1->google-genai) (4.9)\n",
      "Requirement already satisfied: certifi in /Users/vh19/.pyenv/versions/3.12.6/lib/python3.12/site-packages (from httpx<1.0.0,>=0.28.1->google-genai) (2025.1.31)\n",
      "Requirement already satisfied: httpcore==1.* in /Users/vh19/.pyenv/versions/3.12.6/lib/python3.12/site-packages (from httpx<1.0.0,>=0.28.1->google-genai) (1.0.7)\n",
      "Requirement already satisfied: h11<0.15,>=0.13 in /Users/vh19/.pyenv/versions/3.12.6/lib/python3.12/site-packages (from httpcore==1.*->httpx<1.0.0,>=0.28.1->google-genai) (0.14.0)\n",
      "Requirement already satisfied: annotated-types>=0.6.0 in /Users/vh19/.pyenv/versions/3.12.6/lib/python3.12/site-packages (from pydantic<3.0.0,>=2.0.0->google-genai) (0.7.0)\n",
      "Requirement already satisfied: pydantic-core==2.33.0 in /Users/vh19/.pyenv/versions/3.12.6/lib/python3.12/site-packages (from pydantic<3.0.0,>=2.0.0->google-genai) (2.33.0)\n",
      "Requirement already satisfied: typing-inspection>=0.4.0 in /Users/vh19/.pyenv/versions/3.12.6/lib/python3.12/site-packages (from pydantic<3.0.0,>=2.0.0->google-genai) (0.4.0)\n",
      "Requirement already satisfied: charset-normalizer<4,>=2 in /Users/vh19/.pyenv/versions/3.12.6/lib/python3.12/site-packages (from requests<3.0.0,>=2.28.1->google-genai) (3.4.1)\n",
      "Requirement already satisfied: urllib3<3,>=1.21.1 in /Users/vh19/.pyenv/versions/3.12.6/lib/python3.12/site-packages (from requests<3.0.0,>=2.28.1->google-genai) (2.3.0)\n",
      "Requirement already satisfied: pyasn1<0.7.0,>=0.6.1 in /Users/vh19/.pyenv/versions/3.12.6/lib/python3.12/site-packages (from pyasn1-modules>=0.2.1->google-auth<3.0.0,>=2.14.1->google-genai) (0.6.1)\n",
      "\n",
      "\u001b[1m[\u001b[0m\u001b[34;49mnotice\u001b[0m\u001b[1;39;49m]\u001b[0m\u001b[39;49m A new release of pip is available: \u001b[0m\u001b[31;49m24.2\u001b[0m\u001b[39;49m -> \u001b[0m\u001b[32;49m25.0.1\u001b[0m\n",
      "\u001b[1m[\u001b[0m\u001b[34;49mnotice\u001b[0m\u001b[1;39;49m]\u001b[0m\u001b[39;49m To update, run: \u001b[0m\u001b[32;49mpip install --upgrade pip\u001b[0m\n",
      "Note: you may need to restart the kernel to use updated packages.\n"
     ]
    }
   ],
   "source": [
    "%pip install google-genai"
   ]
  },
  {
   "cell_type": "markdown",
   "metadata": {},
   "source": [
    "## Base Setup"
   ]
  },
  {
   "cell_type": "code",
   "execution_count": 2,
   "metadata": {},
   "outputs": [],
   "source": [
    "import os\n",
    "from google import genai\n",
    "from google.genai import types\n",
    "import json"
   ]
  },
  {
   "cell_type": "code",
   "execution_count": 29,
   "metadata": {},
   "outputs": [],
   "source": [
    "base_model = \"gemini-2.0-flash\"\n",
    "api_key = os.environ.get(\"GEMINI_API_KEY\")\n",
    "client = genai.Client(\n",
    "  api_key=api_key,\n",
    ")\n",
    "\n",
    "# setup study material files\n",
    "files = [\n",
    "  client.files.upload(file='section-loop.pdf')\n",
    "]"
   ]
  },
  {
   "cell_type": "code",
   "execution_count": 30,
   "metadata": {},
   "outputs": [],
   "source": [
    "def setup_question_generator_config(system_prompt):\n",
    "    return types.GenerateContentConfig(\n",
    "        response_mime_type=\"application/json\",\n",
    "        system_instruction=[\n",
    "            types.Part.from_text(text=system_prompt),\n",
    "        ],\n",
    "    )"
   ]
  },
  {
   "cell_type": "markdown",
   "metadata": {},
   "source": [
    "## Scenario 1 & 2 Setup"
   ]
  },
  {
   "cell_type": "code",
   "execution_count": 31,
   "metadata": {},
   "outputs": [],
   "source": [
    "question_generator_prompt = \"\"\n",
    "with open('question-generator-prompt.txt', 'r') as file:\n",
    "    question_generator_prompt = file.read()\n",
    "\n",
    "question_generator_config_0_shot = setup_question_generator_config(question_generator_prompt)"
   ]
  },
  {
   "cell_type": "markdown",
   "metadata": {},
   "source": [
    "## Scenario 1"
   ]
  },
  {
   "cell_type": "code",
   "execution_count": 32,
   "metadata": {},
   "outputs": [],
   "source": [
    "contents_scenario_1 = [\n",
    "    types.Content(\n",
    "        role=\"user\",\n",
    "        parts=[\n",
    "            types.Part.from_uri(\n",
    "                file_uri=files[0].uri,\n",
    "                mime_type=files[0].mime_type,\n",
    "            ),\n",
    "            types.Part.from_text(text=\"\"\"Generate exactly 5 MCQs covering the different loop concepts and examples presented **in the provided file**, ensuring assessment across the areas defined in your instructions. Use the JSON format described in your instructions.\n",
    "(File containing source text context is attached)\"\"\"),\n",
    "        ]\n",
    "    )\n",
    "]"
   ]
  },
  {
   "cell_type": "code",
   "execution_count": 33,
   "metadata": {},
   "outputs": [],
   "source": [
    "result = client.models.generate_content(\n",
    "  model=base_model,\n",
    "  contents=contents_scenario_1,\n",
    "  config=question_generator_config_0_shot,\n",
    ")"
   ]
  },
  {
   "cell_type": "code",
   "execution_count": 34,
   "metadata": {},
   "outputs": [
    {
     "name": "stdout",
     "output_type": "stream",
     "text": [
      "[\n",
      "  {\n",
      "    \"question_text\": \"What is the output of the following code?\\n\\nstr_var = \\\"A string\\\"\\ncount = 0\\nfor c in str_var:\\n    count += 1\\nprint(count)\",\n",
      "    \"options\": {\n",
      "      \"A\": \"7\",\n",
      "      \"B\": \"8\",\n",
      "      \"C\": \"9\",\n",
      "      \"D\": \"A string\"\n",
      "    },\n",
      "    \"correct_option\": \"B\"\n",
      "  },\n",
      "  {\n",
      "    \"question_text\": \"Given the following `while` loop, how many times will the loop body execute?\\n\\nn = 4\\nwhile n > 0:\\n    print(n)\\n    n = n - 1\",\n",
      "    \"options\": {\n",
      "      \"A\": \"3\",\n",
      "      \"B\": \"4\",\n",
      "      \"C\": \"5\",\n",
      "      \"D\": \"The loop will not execute.\"\n",
      "    },\n",
      "    \"correct_option\": \"B\"\n",
      "  },\n",
      "  {\n",
      "    \"question_text\": \"What is the output of the following code snippet? \\n\\nfor i in range(1, 7, 2):\\n    print(i, end=' ')\",\n",
      "    \"options\": {\n",
      "      \"A\": \"1 2 3 4 5 6\",\n",
      "      \"B\": \"1 3 5\",\n",
      "      \"C\": \"1 3 5 7\",\n",
      "      \"D\": \"1 3 5 6\"\n",
      "    },\n",
      "    \"correct_option\": \"B\"\n",
      "  },\n",
      "  {\n",
      "    \"question_text\": \"Given the following code using a nested `while` loop, how many times does the `print` statement execute?\\n\\ni = 1\\nwhile i <= 5:\\n    j = 1\\n    while i + j <= 5:\\n        print(i, j)\\n        j += 1\\n    i += 1\",\n",
      "    \"options\": {\n",
      "      \"A\": \"5\",\n",
      "      \"B\": \"10\",\n",
      "      \"C\": \"25\",\n",
      "      \"D\": \"100\"\n",
      "    },\n",
      "    \"correct_option\": \"B\"\n",
      "  },\n",
      "  {\n",
      "    \"question_text\": \"What happens when a `break` statement is executed inside a loop?\",\n",
      "    \"options\": {\n",
      "      \"A\": \"The loop continues to the next iteration.\",\n",
      "      \"B\": \"The loop terminates, and the program continues with the next statement after the loop.\",\n",
      "      \"C\": \"The program terminates entirely.\",\n",
      "      \"D\": \"The loop restarts from the beginning.\"\n",
      "    },\n",
      "    \"correct_option\": \"B\"\n",
      "  }\n",
      "]\n"
     ]
    }
   ],
   "source": [
    "print(f\"{result.text}\")"
   ]
  },
  {
   "cell_type": "markdown",
   "metadata": {},
   "source": [
    "## Scenario 2"
   ]
  },
  {
   "cell_type": "code",
   "execution_count": 35,
   "metadata": {},
   "outputs": [],
   "source": [
    "scenario_2_prompt = \"\"\n",
    "with open('scenario-2-prompts.txt', 'r') as file:\n",
    "    scenario_2_prompt = file.read()\n",
    "\n",
    "question_generator_config_1_shot = setup_question_generator_config(scenario_2_prompt)"
   ]
  },
  {
   "cell_type": "code",
   "execution_count": 36,
   "metadata": {},
   "outputs": [],
   "source": [
    "contents_scenario_2 = [\n",
    "    types.Content(\n",
    "        role=\"user\",\n",
    "        parts=[\n",
    "            types.Part.from_uri(\n",
    "                file_uri=files[0].uri,\n",
    "                mime_type=files[0].mime_type,\n",
    "            ),\n",
    "            types.Part.from_text(text=\"\"\"Here is an example of the desired output format:\n",
    "Example Output:\n",
    "[\n",
    "  {\n",
    "    \"question_text\": \"What is the output of the code snippet?\\n`count = 0\\nwhile count < 3:\\n  print(count)\\n  count += 1`\",\n",
    "    \"options\": {\n",
    "      \"A\": \"0 1 2 3\",\n",
    "      \"B\": \"1 2 3\",\n",
    "      \"C\": \"0 1 2\",\n",
    "      \"D\": \"0 1\"\n",
    "    },\n",
    "    \"correct_option\": \"C\"\n",
    "  }\n",
    "]\n",
    "\n",
    "Now, using that exact JSON format, generate exactly 5 MCQs covering the different loop concepts and examples presented **in the provided file**, ensuring assessment across the areas defined in your instructions.\n",
    "(File containing source text context is attached)\n",
    "\"\"\"),\n",
    "        ]\n",
    "    )\n",
    "]"
   ]
  },
  {
   "cell_type": "code",
   "execution_count": 37,
   "metadata": {},
   "outputs": [],
   "source": [
    "result_1_shot = client.models.generate_content(\n",
    "  model=base_model,\n",
    "  contents=contents_scenario_2,\n",
    "  config=question_generator_config_1_shot,\n",
    ")"
   ]
  },
  {
   "cell_type": "code",
   "execution_count": 38,
   "metadata": {},
   "outputs": [
    {
     "name": "stdout",
     "output_type": "stream",
     "text": [
      "[\n",
      "  {\n",
      "    \"question_text\": \"What is the primary purpose of a `while` loop?\",\n",
      "    \"options\": {\n",
      "      \"A\": \"To execute a block of code repeatedly as long as a condition is true.\",\n",
      "      \"B\": \"To iterate over a sequence of elements in a container.\",\n",
      "      \"C\": \"To define a function.\",\n",
      "      \"D\": \"To handle exceptions.\"\n",
      "    },\n",
      "    \"correct_option\": \"A\"\n",
      "  },\n",
      "  {\n",
      "    \"question_text\": \"Given the code: `i = 0; while i < 5: print(i); i += 1`. How many times will the `print(i)` statement be executed?\",\n",
      "    \"options\": {\n",
      "      \"A\": \"4\",\n",
      "      \"B\": \"5\",\n",
      "      \"C\": \"6\",\n",
      "      \"D\": \"0\"\n",
      "    },\n",
      "    \"correct_option\": \"B\"\n",
      "  },\n",
      "  {\n",
      "    \"question_text\": \"Which statement is used to exit a loop prematurely?\",\n",
      "    \"options\": {\n",
      "      \"A\": \"continue\",\n",
      "      \"B\": \"exit\",\n",
      "      \"C\": \"break\",\n",
      "      \"D\": \"pass\"\n",
      "    },\n",
      "    \"correct_option\": \"C\"\n",
      "  },\n",
      "  {\n",
      "    \"question_text\": \"What will be the output of `for i in range(2, 8, 2): print(i)`?\",\n",
      "    \"options\": {\n",
      "      \"A\": \"2 3 4 5 6 7\",\n",
      "      \"B\": \"2 4 6\",\n",
      "      \"C\": \"2 4 6 8\",\n",
      "      \"D\": \"2 3\"\n",
      "    },\n",
      "    \"correct_option\": \"B\"\n",
      "  },\n",
      "  {\n",
      "    \"question_text\": \"What happens when a `break` statement is encountered inside a nested loop?\",\n",
      "    \"options\": {\n",
      "      \"A\": \"The program terminates completely.\",\n",
      "      \"B\": \"Only the inner loop is terminated.\",\n",
      "      \"C\": \"Both the inner and outer loops are terminated.\",\n",
      "      \"D\": \"The outer loop continues, but the inner loop restarts.\"\n",
      "    },\n",
      "    \"correct_option\": \"B\"\n",
      "  }\n",
      "]\n"
     ]
    }
   ],
   "source": [
    "print(f\"{result_1_shot.text}\")"
   ]
  },
  {
   "cell_type": "markdown",
   "metadata": {},
   "source": [
    "## Scenario 3 & 4 Setup"
   ]
  },
  {
   "cell_type": "code",
   "execution_count": 42,
   "metadata": {},
   "outputs": [],
   "source": [
    "content_with_initial_mcqs_1 = [\n",
    "    types.Content(\n",
    "        role=\"user\",\n",
    "        parts=[\n",
    "            types.Part.from_text(text=f\"\"\"Evaluate the following 5 generated MCQs based on the criteria specified in your instructions (Topic Coverage/Relevance, Question Quality/Clarity, Answer Quality/Distractors, Correctness Verification - scale 1-5). Provide the scores, a brief comment for each question, and an overall topic coverage comment. Use ONLY the specified JSON output format described in your instructions.\n",
    "Generated MCQs: {result.text}\n",
    "\"\"\"),\n",
    "        ]\n",
    "    )\n",
    "]\n",
    "\n",
    "content_with_initial_mcqs_2 = [\n",
    "    types.Content(\n",
    "        role=\"user\",\n",
    "        parts=[\n",
    "            types.Part.from_text(text=f\"\"\"Here is an example of the desired JSON evaluation output format:\n",
    "Example Evaluation Output:\n",
    "{{\n",
    "  \"evaluation_results\": [\n",
    "    {{\n",
    "      \"question_evaluated\": \"What does the 'break' statement do inside a loop?\",\n",
    "      \"evaluation\": {{\n",
    "        \"topic_coverage_relevance_score\": 5,\n",
    "        \"question_quality_clarity_score\": 5,\n",
    "        \"answer_quality_distractors_score\": 4,\n",
    "        \"correctness_verification_score\": 5,\n",
    "        \"brief_comment\": \"Tests fundamental loop control. Clear question. Distractors plausible.\"\n",
    "      }}\n",
    "    }}\n",
    "    // Note: Example only shows one evaluation for brevity.\n",
    "  ],\n",
    "  \"overall_topic_coverage_comment\": \"The single example question covers loop control well, but a full set would need to cover loop types too.\"\n",
    "}}\n",
    "\n",
    "Now, using that exact JSON format, evaluate the following 5 generated MCQs based on the criteria specified in your instructions (Topic Coverage/Relevance, Question Quality/Clarity, Answer Quality/Distractors, Correctness Verification - scale 1-5). Provide the scores, a brief comment for each question, and an overall topic coverage comment.\n",
    "\n",
    "Generated MCQs: {result_1_shot.text}\"\"\"),\n",
    "        ]\n",
    "    )\n",
    "]"
   ]
  },
  {
   "cell_type": "markdown",
   "metadata": {},
   "source": [
    "## Scenario 3"
   ]
  },
  {
   "cell_type": "code",
   "execution_count": 43,
   "metadata": {},
   "outputs": [],
   "source": [
    "evaluator_0_shot_prompt = \"\"\n",
    "with open('evaluator-0-shot-prompt.txt', 'r') as file: \n",
    "    evaluator_0_shot_prompt = file.read()\n",
    "\n",
    "evaluator_agent_config_1 = types.GenerateContentConfig(\n",
    "    response_mime_type=\"application/json\",\n",
    "    system_instruction=[\n",
    "        types.Part.from_text(text=evaluator_0_shot_prompt),\n",
    "    ],\n",
    ")"
   ]
  },
  {
   "cell_type": "code",
   "execution_count": 44,
   "metadata": {},
   "outputs": [],
   "source": [
    "evaluator_result_1 = client.models.generate_content(\n",
    "  model=base_model,\n",
    "  contents=content_with_initial_mcqs_1,\n",
    "  config=evaluator_agent_config_1,\n",
    ")"
   ]
  },
  {
   "cell_type": "code",
   "execution_count": 45,
   "metadata": {},
   "outputs": [
    {
     "name": "stdout",
     "output_type": "stream",
     "text": [
      ">> evaluator_result_1: {\n",
      "  \"evaluation_results\": [\n",
      "    {\n",
      "      \"question_evaluated\": \"What is the output of the following code?\\n\\nstr_var = \\\"A string\\\"\\ncount = 0\\nfor c in str_var:\\n    count += 1\\nprint(count)\",\n",
      "      \"evaluation\": {\n",
      "        \"topic_coverage_relevance_score\": 5,\n",
      "        \"question_quality_clarity_score\": 5,\n",
      "        \"answer_quality_distractors_score\": 5,\n",
      "        \"correctness_verification_score\": 5,\n",
      "        \"brief_comment\": \"Clear question testing basic for loop string iteration. Good distractors.\"\n",
      "      }\n",
      "    },\n",
      "    {\n",
      "      \"question_evaluated\": \"Given the following `while` loop, how many times will the loop body execute?\\n\\nn = 4\\nwhile n > 0:\\n    print(n)\\n    n = n - 1\",\n",
      "      \"evaluation\": {\n",
      "        \"topic_coverage_relevance_score\": 5,\n",
      "        \"question_quality_clarity_score\": 5,\n",
      "        \"answer_quality_distractors_score\": 5,\n",
      "        \"correctness_verification_score\": 5,\n",
      "        \"brief_comment\": \"Clear while loop question. Good distractors.\"\n",
      "      }\n",
      "    },\n",
      "    {\n",
      "      \"question_evaluated\": \"What is the output of the following code snippet? \\n\\nfor i in range(1, 7, 2):\\n    print(i, end=' ')\",\n",
      "      \"evaluation\": {\n",
      "        \"topic_coverage_relevance_score\": 5,\n",
      "        \"question_quality_clarity_score\": 5,\n",
      "        \"answer_quality_distractors_score\": 5,\n",
      "        \"correctness_verification_score\": 5,\n",
      "        \"brief_comment\": \"Tests `range` function within a `for` loop. Clear and good distractors.\"\n",
      "      }\n",
      "    },\n",
      "    {\n",
      "      \"question_evaluated\": \"Given the following code using a nested `while` loop, how many times does the `print` statement execute?\\n\\ni = 1\\nwhile i <= 5:\\n    j = 1\\n    while i + j <= 5:\\n        print(i, j)\\n        j += 1\\n    i += 1\",\n",
      "      \"evaluation\": {\n",
      "        \"topic_coverage_relevance_score\": 5,\n",
      "        \"question_quality_clarity_score\": 5,\n",
      "        \"answer_quality_distractors_score\": 5,\n",
      "        \"correctness_verification_score\": 5,\n",
      "        \"brief_comment\": \"Nested while loop - correct answer is B (10). All distractors are plausible.\"\n",
      "      }\n",
      "    },\n",
      "    {\n",
      "      \"question_evaluated\": \"What happens when a `break` statement is executed inside a loop?\",\n",
      "      \"evaluation\": {\n",
      "        \"topic_coverage_relevance_score\": 5,\n",
      "        \"question_quality_clarity_score\": 5,\n",
      "        \"answer_quality_distractors_score\": 5,\n",
      "        \"correctness_verification_score\": 5,\n",
      "        \"brief_comment\": \"Tests understanding of `break` statement. Good distractors.\"\n",
      "      }\n",
      "    }\n",
      "  ],\n",
      "  \"overall_topic_coverage_comment\": \"The MCQs cover a good range of Python loop concepts, including `for` loops, `while` loops, nested loops, the `range` function, and the `break` statement. The questions are relevant and address common scenarios and potential errors.\"\n",
      "}\n"
     ]
    }
   ],
   "source": [
    "print(f\">> evaluator_result_1: {evaluator_result_1.text}\")"
   ]
  },
  {
   "cell_type": "code",
   "execution_count": 58,
   "metadata": {},
   "outputs": [],
   "source": [
    "updated_content_scenario_3 = [\n",
    "  types.Content(\n",
    "    role=\"user\",\n",
    "    parts=[\n",
    "      types.Part.from_uri(\n",
    "    file_uri=files[0].uri,\n",
    "    mime_type=files[0].mime_type,\n",
    "  ),\n",
    "      types.Part.from_text(text=f\"\"\"Here are 5 MCQs previously generated based on the context file:\n",
    "{result.text}\n",
    "\n",
    "Here is an evaluation of those questions:\n",
    "{evaluator_result_1.text}\n",
    "\n",
    "Please regenerate a new set of 5 MCQs based on the original context file, taking the evaluation feedback into account to improve upon the previous set where weaknesses were noted (e.g., low scores, negative comments). Ensure the new questions still cover the required assessment areas (Comprehension, Execution, Control Statements, Range) and follow the specified JSON format.\n",
    "(File containing source text context is attached\"\"\")\n",
    "    ]\n",
    "  )\n",
    "]"
   ]
  },
  {
   "cell_type": "code",
   "execution_count": 59,
   "metadata": {},
   "outputs": [],
   "source": [
    "# Send feedback to question generator\n",
    "result_with_feedback_1 = client.models.generate_content(\n",
    "  model=base_model,\n",
    "  contents=updated_content_scenario_3,\n",
    "  config=question_generator_config_0_shot,\n",
    ")"
   ]
  },
  {
   "cell_type": "code",
   "execution_count": 60,
   "metadata": {},
   "outputs": [
    {
     "name": "stdout",
     "output_type": "stream",
     "text": [
      ">> result_with_feedback_1: [\n",
      "  {\n",
      "    \"question_text\": \"What is the final value of `counter` after executing the following code?\\n\\ncounter = 1\\nwhile counter <= 5:\\n    counter += 1\\nprint(counter)\",\n",
      "    \"options\": {\n",
      "      \"A\": \"5\",\n",
      "      \"B\": \"6\",\n",
      "      \"C\": \"4\",\n",
      "      \"D\": \"0\"\n",
      "    },\n",
      "    \"correct_option\": \"B\"\n",
      "  },\n",
      "  {\n",
      "    \"question_text\": \"What will be printed by the following code?\\n\\nstr_var = \\\"Python\\\"\\nfor char in str_var:\\n    print(char, end='')\",\n",
      "    \"options\": {\n",
      "      \"A\": \"P y t h o n\",\n",
      "      \"B\": \"Python\",\n",
      "      \"C\": \"n o h t y P\",\n",
      "      \"D\": \"P\"\n",
      "    },\n",
      "    \"correct_option\": \"B\"\n",
      "  },\n",
      "  {\n",
      "    \"question_text\": \"How many times will the inner loop execute in the following code?\\n\\nfor i in range(2):\\n    for j in range(3):\\n        print(i, j)\",\n",
      "    \"options\": {\n",
      "      \"A\": \"2\",\n",
      "      \"B\": \"3\",\n",
      "      \"C\": \"6\",\n",
      "      \"D\": \"5\"\n",
      "    },\n",
      "    \"correct_option\": \"C\"\n",
      "  },\n",
      "  {\n",
      "    \"question_text\": \"What is printed by the following code?\\n\\nfor i in range(5):\\n    if i == 3:\\n        break\\n    print(i, end=' ')\",\n",
      "    \"options\": {\n",
      "      \"A\": \"0 1 2 3 4\",\n",
      "      \"B\": \"0 1 2 3\",\n",
      "      \"C\": \"0 1 2\",\n",
      "      \"D\": \"3\"\n",
      "    },\n",
      "    \"correct_option\": \"C\"\n",
      "  },\n",
      "  {\n",
      "    \"question_text\": \"What is the output of the following code snippet?\\n\\nnumbers = [1, 2, 3, 4, 5]\\nfor num in numbers:\\n    if num % 2 == 0:\\n        continue\\n    print(num, end=\\\" \\\")\",\n",
      "    \"options\": {\n",
      "      \"A\": \"1 2 3 4 5\",\n",
      "      \"B\": \"2 4\",\n",
      "      \"C\": \"1 3 5\",\n",
      "      \"D\": \"0 1 3 5\"\n",
      "    },\n",
      "    \"correct_option\": \"C\"\n",
      "  }\n",
      "]\n"
     ]
    }
   ],
   "source": [
    "print(f\">> result_with_feedback_1: {result_with_feedback_1.text}\")"
   ]
  },
  {
   "cell_type": "markdown",
   "metadata": {},
   "source": [
    "## Scenario 4"
   ]
  },
  {
   "cell_type": "code",
   "execution_count": 61,
   "metadata": {},
   "outputs": [],
   "source": [
    "evaluator_1_shot_prompt = \"\"\n",
    "with open('evaluator-1-shot-prompt.txt', 'r') as file: \n",
    "    evaluator_1_shot_prompt = file.read()\n",
    "\n",
    "evaluator_agent_config_2 = types.GenerateContentConfig(\n",
    "    response_mime_type=\"application/json\",\n",
    "    system_instruction=[\n",
    "        types.Part.from_text(text=evaluator_1_shot_prompt),\n",
    "    ],\n",
    ")"
   ]
  },
  {
   "cell_type": "code",
   "execution_count": 62,
   "metadata": {},
   "outputs": [],
   "source": [
    "evaluator_result_2 = client.models.generate_content(\n",
    "  model=base_model,\n",
    "  contents=content_with_initial_mcqs_2,\n",
    "  config=evaluator_agent_config_2,\n",
    ")"
   ]
  },
  {
   "cell_type": "code",
   "execution_count": 63,
   "metadata": {},
   "outputs": [
    {
     "name": "stdout",
     "output_type": "stream",
     "text": [
      ">> evaluator_result_2: {\n",
      "  \"evaluation_results\": [\n",
      "    {\n",
      "      \"question_evaluated\": \"What is the primary purpose of a `while` loop?\",\n",
      "      \"evaluation\": {\n",
      "        \"topic_coverage_relevance_score\": 5,\n",
      "        \"question_quality_clarity_score\": 5,\n",
      "        \"answer_quality_distractors_score\": 5,\n",
      "        \"correctness_verification_score\": 5,\n",
      "        \"brief_comment\": \"Fundamental concept. Clear question and plausible distractors.\"\n",
      "      }\n",
      "    },\n",
      "    {\n",
      "      \"question_evaluated\": \"Given the code: `i = 0; while i < 5: print(i); i += 1`. How many times will the `print(i)` statement be executed?\",\n",
      "      \"evaluation\": {\n",
      "        \"topic_coverage_relevance_score\": 5,\n",
      "        \"question_quality_clarity_score\": 4,\n",
      "        \"answer_quality_distractors_score\": 5,\n",
      "        \"correctness_verification_score\": 5,\n",
      "        \"brief_comment\": \"Good example, though the lack of indentation in the code snippet slightly hurts clarity, the code is on one line. Distractors are well-chosen.\"\n",
      "      }\n",
      "    },\n",
      "    {\n",
      "      \"question_evaluated\": \"Which statement is used to exit a loop prematurely?\",\n",
      "      \"evaluation\": {\n",
      "        \"topic_coverage_relevance_score\": 5,\n",
      "        \"question_quality_clarity_score\": 5,\n",
      "        \"answer_quality_distractors_score\": 5,\n",
      "        \"correctness_verification_score\": 5,\n",
      "        \"brief_comment\": \"Important loop control keyword. Clear question, good distractors.\"\n",
      "      }\n",
      "    },\n",
      "    {\n",
      "      \"question_evaluated\": \"What will be the output of `for i in range(2, 8, 2): print(i)`?\",\n",
      "      \"evaluation\": {\n",
      "        \"topic_coverage_relevance_score\": 5,\n",
      "        \"question_quality_clarity_score\": 5,\n",
      "        \"answer_quality_distractors_score\": 5,\n",
      "        \"correctness_verification_score\": 5,\n",
      "        \"brief_comment\": \"Tests understanding of `range()` function and `for` loops. Clear question, good distractors.\"\n",
      "      }\n",
      "    },\n",
      "    {\n",
      "      \"question_evaluated\": \"What happens when a `break` statement is encountered inside a nested loop?\",\n",
      "      \"evaluation\": {\n",
      "        \"topic_coverage_relevance_score\": 5,\n",
      "        \"question_quality_clarity_score\": 5,\n",
      "        \"answer_quality_distractors_score\": 5,\n",
      "        \"correctness_verification_score\": 5,\n",
      "        \"brief_comment\": \"Tests understanding of nested loops and `break`. Clear and good distractors.\"\n",
      "      }\n",
      "    }\n",
      "  ],\n",
      "  \"overall_topic_coverage_comment\": \"The MCQs cover fundamental loop concepts: `while` loops, `for` loops, `break` statements, `range()` function, and nested loops. Good coverage overall.\"\n",
      "}\n"
     ]
    }
   ],
   "source": [
    "print(f\">> evaluator_result_2: {evaluator_result_2.text}\")"
   ]
  },
  {
   "cell_type": "code",
   "execution_count": 64,
   "metadata": {},
   "outputs": [],
   "source": [
    "updated_content_scenario_4 = [\n",
    "  types.Content(\n",
    "    role=\"user\",\n",
    "    parts=[\n",
    "      types.Part.from_uri(\n",
    "    file_uri=files[0].uri,\n",
    "    mime_type=files[0].mime_type,\n",
    "  ),\n",
    "      types.Part.from_text(text=f\"\"\"Here are 5 MCQs previously generated based on the context file:\n",
    "{result_1_shot.text}\n",
    "\n",
    "Here is an evaluation of those questions:\n",
    "{evaluator_result_2.text}\n",
    "\n",
    "Please regenerate a new set of 5 MCQs based on the original context file, taking the evaluation feedback into account to improve upon the previous set where weaknesses were noted (e.g., low scores, negative comments). Ensure the new questions still cover the required assessment areas (Comprehension, Execution, Control Statements, Range) and follow the specified JSON format.\n",
    "(File containing source text context is attached)\"\"\")\n",
    "    ]\n",
    "  ),\n",
    "]"
   ]
  },
  {
   "cell_type": "code",
   "execution_count": 65,
   "metadata": {},
   "outputs": [],
   "source": [
    "result_after_feedback_2 = client.models.generate_content(\n",
    "  model=base_model,\n",
    "  contents=updated_content_scenario_4,\n",
    "  config=question_generator_config_1_shot,\n",
    ")"
   ]
  },
  {
   "cell_type": "code",
   "execution_count": 66,
   "metadata": {},
   "outputs": [
    {
     "name": "stdout",
     "output_type": "stream",
     "text": [
      ">> result_after_feedback_2: [\n",
      "  {\n",
      "    \"question_text\": \"What is the key difference between a `while` loop and a `for` loop as described in the text?\",\n",
      "    \"options\": {\n",
      "      \"A\": \"`while` loops iterate over a container, while `for` loops use a condition.\",\n",
      "      \"B\": \"`while` loops use a condition to determine when to stop, while `for` loops iterate over elements in a container.\",\n",
      "      \"C\": \"`while` loops can only count up, while `for` loops can count up or down.\",\n",
      "      \"D\": \"`while` loops use `break` and `continue`, while `for` loops do not.\"\n",
      "    },\n",
      "    \"correct_option\": \"B\"\n",
      "  },\n",
      "  {\n",
      "    \"question_text\": \"Consider the code:\\n```python\\ncounter = 1\\nwhile counter <= 5:\\n    print(counter, end=' ')\\n    counter += 1\\n```\\nWhat is the output of this code?\",\n",
      "    \"options\": {\n",
      "      \"A\": \"1 2 3 4\",\n",
      "      \"B\": \"1 2 3 4 5\",\n",
      "      \"C\": \"1 2 3 4 5 6\",\n",
      "      \"D\": \"2 3 4 5\"\n",
      "    },\n",
      "    \"correct_option\": \"B\"\n",
      "  },\n",
      "  {\n",
      "    \"question_text\": \"What is the purpose of the `continue` statement in a loop?\",\n",
      "    \"options\": {\n",
      "      \"A\": \"To terminate the entire program.\",\n",
      "      \"B\": \"To exit the loop completely.\",\n",
      "      \"C\": \"To skip the rest of the current iteration and proceed to the next.\",\n",
      "      \"D\": \"To restart the loop from the beginning.\"\n",
      "    },\n",
      "    \"correct_option\": \"C\"\n",
      "  },\n",
      "  {\n",
      "    \"question_text\": \"What sequence of numbers does `range(1, 10, 3)` generate?\",\n",
      "    \"options\": {\n",
      "      \"A\": \"1, 2, 3, 4, 5, 6, 7, 8, 9\",\n",
      "      \"B\": \"1, 4, 7\",\n",
      "      \"C\": \"1, 3, 5, 7, 9\",\n",
      "      \"D\": \"3, 6, 9\"\n",
      "    },\n",
      "    \"correct_option\": \"B\"\n",
      "  },\n",
      "  {\n",
      "    \"question_text\": \"In nested loops, which loop controls the number of times the inner loop executes completely?\",\n",
      "    \"options\": {\n",
      "      \"A\": \"The inner loop.\",\n",
      "      \"B\": \"The outer loop.\",\n",
      "      \"C\": \"Both loops execute the same number of times.\",\n",
      "      \"D\": \"The loop with the `break` statement.\"\n",
      "    },\n",
      "    \"correct_option\": \"B\"\n",
      "  }\n",
      "]\n"
     ]
    }
   ],
   "source": [
    "print(f\">> result_after_feedback_2: {result_after_feedback_2.text}\")"
   ]
  }
 ],
 "metadata": {
  "kernelspec": {
   "display_name": "Python 3",
   "language": "python",
   "name": "python3"
  },
  "language_info": {
   "codemirror_mode": {
    "name": "ipython",
    "version": 3
   },
   "file_extension": ".py",
   "mimetype": "text/x-python",
   "name": "python",
   "nbconvert_exporter": "python",
   "pygments_lexer": "ipython3",
   "version": "3.12.6"
  }
 },
 "nbformat": 4,
 "nbformat_minor": 2
}
