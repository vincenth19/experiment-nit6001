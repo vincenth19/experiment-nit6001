{
 "cells": [
  {
   "cell_type": "markdown",
   "metadata": {},
   "source": [
    "# Experiments\n",
    "\n",
    "## Overview\n",
    "This notebook contains preliminary experiments comparing different AI agent configurations. Each scenario will use identical study material input.\n",
    "\n",
    "## Scenarios\n",
    "There will be 4 scenarios:\n",
    "1. **Single agent 0-shot**: One agent with no examples provided\n",
    "2. **Single agent 1-shot**: One agent with one example provided\n",
    "3. **Multi-agent 0-shot**: Two agents (question generator and evaluator) with no examples, using manual agent orchestration\n",
    "4. **Multi-agent 1-shot**: Two agents with one example, using manual agent orchestration\n",
    "\n",
    "## Methodology\n",
    "- Each scenario will have same study material input\n",
    "- Each scenario will be run once as this is a preliminary study\n",
    "- The multi-agent scenarios will utilize the crewAI framework\n",
    "- Results will be compared qualitatively rather than statistically\n"
   ]
  },
  {
   "cell_type": "code",
   "execution_count": 13,
   "metadata": {},
   "outputs": [
    {
     "name": "stdout",
     "output_type": "stream",
     "text": [
      "Requirement already satisfied: google-genai in /Users/vh19/.pyenv/versions/3.12.6/lib/python3.12/site-packages (1.9.0)\n",
      "Requirement already satisfied: anyio<5.0.0,>=4.8.0 in /Users/vh19/.pyenv/versions/3.12.6/lib/python3.12/site-packages (from google-genai) (4.9.0)\n",
      "Requirement already satisfied: google-auth<3.0.0,>=2.14.1 in /Users/vh19/.pyenv/versions/3.12.6/lib/python3.12/site-packages (from google-genai) (2.38.0)\n",
      "Requirement already satisfied: httpx<1.0.0,>=0.28.1 in /Users/vh19/.pyenv/versions/3.12.6/lib/python3.12/site-packages (from google-genai) (0.28.1)\n",
      "Requirement already satisfied: pydantic<3.0.0,>=2.0.0 in /Users/vh19/.pyenv/versions/3.12.6/lib/python3.12/site-packages (from google-genai) (2.11.1)\n",
      "Requirement already satisfied: requests<3.0.0,>=2.28.1 in /Users/vh19/.pyenv/versions/3.12.6/lib/python3.12/site-packages (from google-genai) (2.32.3)\n",
      "Requirement already satisfied: websockets<15.1.0,>=13.0.0 in /Users/vh19/.pyenv/versions/3.12.6/lib/python3.12/site-packages (from google-genai) (15.0.1)\n",
      "Requirement already satisfied: typing-extensions<5.0.0,>=4.11.0 in /Users/vh19/.pyenv/versions/3.12.6/lib/python3.12/site-packages (from google-genai) (4.13.0)\n",
      "Requirement already satisfied: idna>=2.8 in /Users/vh19/.pyenv/versions/3.12.6/lib/python3.12/site-packages (from anyio<5.0.0,>=4.8.0->google-genai) (3.10)\n",
      "Requirement already satisfied: sniffio>=1.1 in /Users/vh19/.pyenv/versions/3.12.6/lib/python3.12/site-packages (from anyio<5.0.0,>=4.8.0->google-genai) (1.3.1)\n",
      "Requirement already satisfied: cachetools<6.0,>=2.0.0 in /Users/vh19/.pyenv/versions/3.12.6/lib/python3.12/site-packages (from google-auth<3.0.0,>=2.14.1->google-genai) (5.5.2)\n",
      "Requirement already satisfied: pyasn1-modules>=0.2.1 in /Users/vh19/.pyenv/versions/3.12.6/lib/python3.12/site-packages (from google-auth<3.0.0,>=2.14.1->google-genai) (0.4.2)\n",
      "Requirement already satisfied: rsa<5,>=3.1.4 in /Users/vh19/.pyenv/versions/3.12.6/lib/python3.12/site-packages (from google-auth<3.0.0,>=2.14.1->google-genai) (4.9)\n",
      "Requirement already satisfied: certifi in /Users/vh19/.pyenv/versions/3.12.6/lib/python3.12/site-packages (from httpx<1.0.0,>=0.28.1->google-genai) (2025.1.31)\n",
      "Requirement already satisfied: httpcore==1.* in /Users/vh19/.pyenv/versions/3.12.6/lib/python3.12/site-packages (from httpx<1.0.0,>=0.28.1->google-genai) (1.0.7)\n",
      "Requirement already satisfied: h11<0.15,>=0.13 in /Users/vh19/.pyenv/versions/3.12.6/lib/python3.12/site-packages (from httpcore==1.*->httpx<1.0.0,>=0.28.1->google-genai) (0.14.0)\n",
      "Requirement already satisfied: annotated-types>=0.6.0 in /Users/vh19/.pyenv/versions/3.12.6/lib/python3.12/site-packages (from pydantic<3.0.0,>=2.0.0->google-genai) (0.7.0)\n",
      "Requirement already satisfied: pydantic-core==2.33.0 in /Users/vh19/.pyenv/versions/3.12.6/lib/python3.12/site-packages (from pydantic<3.0.0,>=2.0.0->google-genai) (2.33.0)\n",
      "Requirement already satisfied: typing-inspection>=0.4.0 in /Users/vh19/.pyenv/versions/3.12.6/lib/python3.12/site-packages (from pydantic<3.0.0,>=2.0.0->google-genai) (0.4.0)\n",
      "Requirement already satisfied: charset-normalizer<4,>=2 in /Users/vh19/.pyenv/versions/3.12.6/lib/python3.12/site-packages (from requests<3.0.0,>=2.28.1->google-genai) (3.4.1)\n",
      "Requirement already satisfied: urllib3<3,>=1.21.1 in /Users/vh19/.pyenv/versions/3.12.6/lib/python3.12/site-packages (from requests<3.0.0,>=2.28.1->google-genai) (2.3.0)\n",
      "Requirement already satisfied: pyasn1<0.7.0,>=0.6.1 in /Users/vh19/.pyenv/versions/3.12.6/lib/python3.12/site-packages (from pyasn1-modules>=0.2.1->google-auth<3.0.0,>=2.14.1->google-genai) (0.6.1)\n",
      "\n",
      "\u001b[1m[\u001b[0m\u001b[34;49mnotice\u001b[0m\u001b[1;39;49m]\u001b[0m\u001b[39;49m A new release of pip is available: \u001b[0m\u001b[31;49m24.2\u001b[0m\u001b[39;49m -> \u001b[0m\u001b[32;49m25.0.1\u001b[0m\n",
      "\u001b[1m[\u001b[0m\u001b[34;49mnotice\u001b[0m\u001b[1;39;49m]\u001b[0m\u001b[39;49m To update, run: \u001b[0m\u001b[32;49mpip install --upgrade pip\u001b[0m\n",
      "Note: you may need to restart the kernel to use updated packages.\n"
     ]
    }
   ],
   "source": [
    "%pip install google-genai"
   ]
  },
  {
   "cell_type": "markdown",
   "metadata": {},
   "source": [
    "## Base Setup"
   ]
  },
  {
   "cell_type": "code",
   "execution_count": 14,
   "metadata": {},
   "outputs": [],
   "source": [
    "import os\n",
    "from google import genai\n",
    "from google.genai import types\n",
    "import json"
   ]
  },
  {
   "cell_type": "code",
   "execution_count": 15,
   "metadata": {},
   "outputs": [],
   "source": [
    "base_model = \"gemini-2.0-flash\"\n",
    "api_key = os.environ.get(\"GEMINI_API_KEY\")\n",
    "client = genai.Client(\n",
    "  api_key=api_key,\n",
    ")\n",
    "\n",
    "# setup study material files\n",
    "files = [\n",
    "  client.files.upload(file='section-loop.pdf')\n",
    "]"
   ]
  },
  {
   "cell_type": "markdown",
   "metadata": {},
   "source": [
    "## Scenario 1 & 2 Setup"
   ]
  },
  {
   "cell_type": "code",
   "execution_count": 16,
   "metadata": {},
   "outputs": [],
   "source": [
    "question_generator_prompt = \"\"\n",
    "with open('question-generator-prompt.txt', 'r') as file:\n",
    "    question_generator_prompt = file.read()\n",
    "\n",
    "def setup_question_generator_config(system_prompt):\n",
    "    return types.GenerateContentConfig(\n",
    "        response_mime_type=\"application/json\",\n",
    "        system_instruction=[\n",
    "            types.Part.from_text(text=system_prompt),\n",
    "        ],\n",
    "    )\n",
    "\n",
    "question_generator_config_0_shot = setup_question_generator_config(question_generator_prompt)\n",
    "\n",
    "contents = [\n",
    "    types.Content(\n",
    "        role=\"user\",\n",
    "        parts=[\n",
    "            types.Part.from_uri(\n",
    "                file_uri=files[0].uri,\n",
    "                mime_type=files[0].mime_type,\n",
    "            ),\n",
    "            types.Part.from_text(text=\"Generate exactly 5 MCQs based on the following context.\"),\n",
    "        ]\n",
    "    )\n",
    "]"
   ]
  },
  {
   "cell_type": "markdown",
   "metadata": {},
   "source": [
    "## Scenario 1"
   ]
  },
  {
   "cell_type": "code",
   "execution_count": 17,
   "metadata": {},
   "outputs": [],
   "source": [
    "result = client.models.generate_content(\n",
    "  model=base_model,\n",
    "  contents=contents,\n",
    "  config=question_generator_config_0_shot,\n",
    ")"
   ]
  },
  {
   "cell_type": "code",
   "execution_count": 18,
   "metadata": {},
   "outputs": [
    {
     "name": "stdout",
     "output_type": "stream",
     "text": [
      ">> result: [\n",
      "  {\n",
      "    \"question\": \"What is the primary function of a 'while' loop in Python?\",\n",
      "    \"options\": {\n",
      "      \"A\": \"To iterate through a sequence of elements a fixed number of times.\",\n",
      "      \"B\": \"To execute a block of code repeatedly as long as a specified condition is true.\",\n",
      "      \"C\": \"To define a function that can be called multiple times.\",\n",
      "      \"D\": \"To handle exceptions that may occur during program execution.\"\n",
      "    },\n",
      "    \"correct_option\": \"B\"\n",
      "  },\n",
      "  {\n",
      "    \"question\": \"Which statement is used to immediately terminate a loop's execution and proceed to the next statement after the loop?\",\n",
      "    \"options\": {\n",
      "      \"A\": \"continue\",\n",
      "      \"B\": \"exit\",\n",
      "      \"C\": \"break\",\n",
      "      \"D\": \"pass\"\n",
      "    },\n",
      "    \"correct_option\": \"C\"\n",
      "  },\n",
      "  {\n",
      "    \"question\": \"What is a 'nested loop'?\",\n",
      "    \"options\": {\n",
      "      \"A\": \"A loop that contains only one type of statement.\",\n",
      "      \"B\": \"A loop that is defined inside another loop.\",\n",
      "      \"C\": \"A loop that only iterates through numbers.\",\n",
      "      \"D\": \"A loop that is used to handle errors.\"\n",
      "    },\n",
      "    \"correct_option\": \"B\"\n",
      "  },\n",
      "  {\n",
      "    \"question\": \"What does the `continue` statement do in a loop?\",\n",
      "    \"options\": {\n",
      "      \"A\": \"It terminates the entire program.\",\n",
      "      \"B\": \"It skips the rest of the current iteration and proceeds to the next iteration.\",\n",
      "      \"C\": \"It exits the loop entirely.\",\n",
      "      \"D\": \"It restarts the loop from the beginning.\"\n",
      "    },\n",
      "    \"correct_option\": \"B\"\n",
      "  },\n",
      "  {\n",
      "    \"question\": \"When does the `else` block after a loop execute?\",\n",
      "    \"options\": {\n",
      "      \"A\": \"Always, after the loop has finished.\",\n",
      "      \"B\": \"Only if the loop was terminated by a `break` statement.\",\n",
      "      \"C\": \"Only if the loop completed its iterations without encountering a `break` statement.\",\n",
      "      \"D\": \"Never; the `else` block after a loop is invalid syntax.\"\n",
      "    },\n",
      "    \"correct_option\": \"C\"\n",
      "  }\n",
      "]\n"
     ]
    }
   ],
   "source": [
    "print(f\">> result: {result.text}\")"
   ]
  },
  {
   "cell_type": "markdown",
   "metadata": {},
   "source": [
    "## Scenario 2"
   ]
  },
  {
   "cell_type": "code",
   "execution_count": 19,
   "metadata": {},
   "outputs": [],
   "source": [
    "scenario_2_prompt = \"\"\n",
    "with open('scenario-2-prompts.txt', 'r') as file:\n",
    "    scenario_2_prompt = file.read()\n",
    "\n",
    "question_generator_config_1_shot = setup_question_generator_config(scenario_2_prompt)"
   ]
  },
  {
   "cell_type": "code",
   "execution_count": 20,
   "metadata": {},
   "outputs": [],
   "source": [
    "result_1_shot = client.models.generate_content(\n",
    "  model=base_model,\n",
    "  contents=contents,\n",
    "  config=question_generator_config_1_shot,\n",
    ")"
   ]
  },
  {
   "cell_type": "code",
   "execution_count": 21,
   "metadata": {},
   "outputs": [
    {
     "name": "stdout",
     "output_type": "stream",
     "text": [
      ">> result_1_shot: [\n",
      "  {\n",
      "    \"question_text\": \"Which of the following loop types are discussed in the provided text?\",\n",
      "    \"options\": {\n",
      "      \"A\": \"do-while loop\",\n",
      "      \"B\": \"for loop and while loop\",\n",
      "      \"C\": \"repeat-until loop\",\n",
      "      \"D\": \"if loop\"\n",
      "    },\n",
      "    \"correct_option\": \"B\"\n",
      "  },\n",
      "  {\n",
      "    \"question_text\": \"What is the primary function of a 'break' statement within a loop?\",\n",
      "    \"options\": {\n",
      "      \"A\": \"To skip the current iteration and proceed to the next.\",\n",
      "      \"B\": \"To terminate the loop's execution prematurely.\",\n",
      "      \"C\": \"To execute the loop body at least once.\",\n",
      "      \"D\": \"To define a function within the loop.\"\n",
      "    },\n",
      "    \"correct_option\": \"B\"\n",
      "  },\n",
      "  {\n",
      "    \"question_text\": \"In the context of loops, what is a 'container' in Python?\",\n",
      "    \"options\": {\n",
      "      \"A\": \"A keyword used to define a loop.\",\n",
      "      \"B\": \"A variable that stores the loop's condition.\",\n",
      "      \"C\": \"A data structure like a list, string, or range of numbers that can be iterated over.\",\n",
      "      \"D\": \"A function that checks for errors in the loop.\"\n",
      "    },\n",
      "    \"correct_option\": \"C\"\n",
      "  },\n",
      "  {\n",
      "    \"question_text\": \"What is the purpose of the `range()` function when used in a `for` loop?\",\n",
      "    \"options\": {\n",
      "      \"A\": \"To define the starting and ending points of the loop.\",\n",
      "      \"B\": \"To generate a sequence of integers for the loop to iterate over.\",\n",
      "      \"C\": \"To specify the condition under which the loop should terminate.\",\n",
      "      \"D\": \"To define the increment or decrement step of the loop counter.\"\n",
      "    },\n",
      "    \"correct_option\": \"B\"\n",
      "  },\n",
      "  {\n",
      "    \"question_text\": \"What happens when a `continue` statement is encountered inside a loop?\",\n",
      "    \"options\": {\n",
      "      \"A\": \"The loop terminates immediately.\",\n",
      "      \"B\": \"The program exits.\",\n",
      "      \"C\": \"The current iteration is skipped, and the loop proceeds to the next iteration.\",\n",
      "      \"D\": \"An error message is displayed.\"\n",
      "    },\n",
      "    \"correct_option\": \"C\"\n",
      "  }\n",
      "]\n"
     ]
    }
   ],
   "source": [
    "print(f\">> result_1_shot: {result_1_shot.text}\")"
   ]
  },
  {
   "cell_type": "markdown",
   "metadata": {},
   "source": [
    "## Scenario 3 & 4 Setup"
   ]
  },
  {
   "cell_type": "code",
   "execution_count": 22,
   "metadata": {},
   "outputs": [],
   "source": [
    "content_with_initial_mcqs_1 = contents\n",
    "content_with_initial_mcqs_2 = contents\n",
    "\n",
    "content_with_initial_mcqs_1.append(\n",
    "  types.Content(\n",
    "    role=\"model\",\n",
    "    parts=[\n",
    "      types.Part.from_text(text=f\"Generated MCQs: {result.text}\"),\n",
    "    ]\n",
    "  )\n",
    ")\n",
    "\n",
    "content_with_initial_mcqs_2.append(\n",
    "  types.Content(\n",
    "    role=\"model\",\n",
    "    parts=[\n",
    "      types.Part.from_text(text=f\"Generated MCQs: {result_1_shot.text}\"),\n",
    "    ]\n",
    "  )\n",
    ")"
   ]
  },
  {
   "cell_type": "markdown",
   "metadata": {},
   "source": [
    "## Scenario 3"
   ]
  },
  {
   "cell_type": "code",
   "execution_count": 39,
   "metadata": {},
   "outputs": [],
   "source": [
    "evaluator_0_shot_prompt = \"\"\n",
    "with open('evaluator-0-shot-prompt.txt', 'r') as file: \n",
    "    evaluator_0_shot_prompt = file.read()\n",
    "\n",
    "evaluator_agent_config_1 = types.GenerateContentConfig(\n",
    "    response_mime_type=\"application/json\",\n",
    "    system_instruction=[\n",
    "        types.Part.from_text(text=evaluator_0_shot_prompt),\n",
    "    ],\n",
    ")"
   ]
  },
  {
   "cell_type": "code",
   "execution_count": 40,
   "metadata": {},
   "outputs": [],
   "source": [
    "evaluator_result_1 = client.models.generate_content(\n",
    "  model=base_model,\n",
    "  contents=content_with_initial_mcqs_1,\n",
    "  config=evaluator_agent_config_1,\n",
    ")"
   ]
  },
  {
   "cell_type": "code",
   "execution_count": 41,
   "metadata": {},
   "outputs": [
    {
     "name": "stdout",
     "output_type": "stream",
     "text": [
      ">> evaluator_result_1: [\n",
      "  {\n",
      "    \"question\": \"In a `while` loop, what happens if the loop condition is always true?\",\n",
      "    \"options\": {\n",
      "      \"A\": \"The loop will execute once and then stop.\",\n",
      "      \"B\": \"The loop will not execute at all.\",\n",
      "      \"C\": \"The loop will execute indefinitely, creating an infinite loop.\",\n",
      "      \"D\": \"The program will crash with a syntax error.\"\n",
      "    },\n",
      "    \"correct_option\": \"C\"\n",
      "  },\n",
      "  {\n",
      "    \"question\": \"Which of the following control flow statements is primarily used to skip the rest of the current iteration of a loop?\",\n",
      "    \"options\": {\n",
      "      \"A\": \"break\",\n",
      "      \"B\": \"pass\",\n",
      "      \"C\": \"continue\",\n",
      "      \"D\": \"return\"\n",
      "    },\n",
      "    \"correct_option\": \"C\"\n",
      "  },\n",
      "  {\n",
      "    \"question\": \"Consider the scenario where a `for` loop iterates through a list of lists. What type of loop structure is this?\",\n",
      "    \"options\": {\n",
      "      \"A\": \"Recursive loop\",\n",
      "      \"B\": \"Nested loop\",\n",
      "      \"C\": \"Parallel loop\",\n",
      "      \"D\": \"Sequential loop\"\n",
      "    },\n",
      "    \"correct_option\": \"B\"\n",
      "  },\n",
      "  {\n",
      "    \"question\": \"What is the key difference between a `break` and a `continue` statement?\",\n",
      "    \"options\": {\n",
      "      \"A\": \"`break` skips to the next iteration; `continue` exits the loop.\",\n",
      "      \"B\": \"`break` exits the loop; `continue` skips to the next iteration.\",\n",
      "      \"C\": \"There is no difference; they both perform the same function.\",\n",
      "      \"D\": \"`break` is used in `for` loops; `continue` is used in `while` loops.\"\n",
      "    },\n",
      "    \"correct_option\": \"B\"\n",
      "  },\n",
      "  {\n",
      "    \"question\": \"Under what condition does the `else` block following a `for` loop execute?\",\n",
      "    \"options\": {\n",
      "      \"A\": \"When the loop encounters an error.\",\n",
      "      \"B\": \"When the loop is terminated by a `break` statement.\",\n",
      "      \"C\": \"When the loop completes all iterations without encountering a `break` statement.\",\n",
      "      \"D\": \"The `else` block always executes before the loop begins.\"\n",
      "    },\n",
      "    \"correct_option\": \"C\"\n",
      "  }\n",
      "]\n"
     ]
    }
   ],
   "source": [
    "print(f\">> evaluator_result_1: {evaluator_result_1.text}\")"
   ]
  },
  {
   "cell_type": "code",
   "execution_count": 42,
   "metadata": {},
   "outputs": [],
   "source": [
    "content_with_initial_mcqs_1.append(\n",
    "  types.Content(\n",
    "    role=\"model\",\n",
    "    parts=[\n",
    "      types.Part.from_text(text=f\"Feedback from evaluator: {evaluator_result_1.text}\"),\n",
    "      types.Part.from_text(text=f\"Regenerate MCQs based on the feedback.\"),\n",
    "    ]\n",
    "  )\n",
    ")"
   ]
  },
  {
   "cell_type": "code",
   "execution_count": 43,
   "metadata": {},
   "outputs": [],
   "source": [
    "# Send feedback to question generator\n",
    "result_with_feedback_1 = client.models.generate_content(\n",
    "  model=base_model,\n",
    "  contents=content_with_initial_mcqs_1,\n",
    "  config=question_generator_config_0_shot,\n",
    ")"
   ]
  },
  {
   "cell_type": "code",
   "execution_count": 44,
   "metadata": {},
   "outputs": [
    {
     "name": "stdout",
     "output_type": "stream",
     "text": [
      ">> result_with_feedback_1: [\n",
      "  {\n",
      "    \"question\": \"Which loop structure in Python is best suited for repeating a block of code as long as a specific condition remains true?\",\n",
      "    \"options\": {\n",
      "      \"A\": \"for loop\",\n",
      "      \"B\": \"while loop\",\n",
      "      \"C\": \"if-else statement\",\n",
      "      \"D\": \"try-except block\"\n",
      "    },\n",
      "    \"correct_option\": \"B\"\n",
      "  },\n",
      "  {\n",
      "    \"question\": \"What statement allows you to exit a loop prematurely, bypassing any remaining code within the loop's body?\",\n",
      "    \"options\": {\n",
      "      \"A\": \"pass\",\n",
      "      \"B\": \"continue\",\n",
      "      \"C\": \"break\",\n",
      "      \"D\": \"return\"\n",
      "    },\n",
      "    \"correct_option\": \"C\"\n",
      "  },\n",
      "  {\n",
      "    \"question\": \"What programming construct involves placing one loop structure (e.g., 'for' or 'while') inside another?\",\n",
      "    \"options\": {\n",
      "      \"A\": \"Loop recursion\",\n",
      "      \"B\": \"Loop abstraction\",\n",
      "      \"C\": \"Nested loops\",\n",
      "      \"D\": \"Parallel processing\"\n",
      "    },\n",
      "    \"correct_option\": \"C\"\n",
      "  },\n",
      "  {\n",
      "    \"question\": \"What is the key difference in functionality between the 'break' and 'continue' statements when used inside a loop?\",\n",
      "    \"options\": {\n",
      "      \"A\": \"'break' skips the next iteration, while 'continue' terminates the loop.\",\n",
      "      \"B\": \"'break' terminates the loop, while 'continue' skips the rest of the current iteration.\",\n",
      "      \"C\": \"Both statements perform the exact same function.\",\n",
      "      \"D\": \"'break' is used only in 'for' loops, while 'continue' is used only in 'while' loops.\"\n",
      "    },\n",
      "    \"correct_option\": \"B\"\n",
      "  },\n",
      "  {\n",
      "    \"question\": \"If a 'for' loop completes all its iterations without encountering a 'break' statement, what happens to any 'else' block associated with the loop?\",\n",
      "    \"options\": {\n",
      "      \"A\": \"The 'else' block is skipped and never executed.\",\n",
      "      \"B\": \"The 'else' block is executed after the loop finishes.\",\n",
      "      \"C\": \"The 'else' block is executed before the loop starts.\",\n",
      "      \"D\": \"The code will result in a syntax error.\"\n",
      "    },\n",
      "    \"correct_option\": \"B\"\n",
      "  }\n",
      "]\n"
     ]
    }
   ],
   "source": [
    "print(f\">> result_with_feedback_1: {result_with_feedback_1.text}\")"
   ]
  },
  {
   "cell_type": "markdown",
   "metadata": {},
   "source": [
    "## Scenario 4"
   ]
  },
  {
   "cell_type": "code",
   "execution_count": 45,
   "metadata": {},
   "outputs": [],
   "source": [
    "evaluator_1_shot_prompt = \"\"\n",
    "with open('evaluator-1-shot-prompt.txt', 'r') as file: \n",
    "    evaluator_1_shot_prompt = file.read()\n",
    "\n",
    "evaluator_agent_config_2 = types.GenerateContentConfig(\n",
    "    response_mime_type=\"application/json\",\n",
    "    system_instruction=[\n",
    "        types.Part.from_text(text=evaluator_1_shot_prompt),\n",
    "    ],\n",
    ")"
   ]
  },
  {
   "cell_type": "code",
   "execution_count": 46,
   "metadata": {},
   "outputs": [],
   "source": [
    "evaluator_result_2 = client.models.generate_content(\n",
    "  model=base_model,\n",
    "  contents=content_with_initial_mcqs_2,\n",
    "  config=evaluator_agent_config_2,\n",
    ")"
   ]
  },
  {
   "cell_type": "code",
   "execution_count": 47,
   "metadata": {},
   "outputs": [
    {
     "name": "stdout",
     "output_type": "stream",
     "text": [
      ">> evaluator_result_2: {\n",
      "  \"question_feedback\": [\n",
      "    {\n",
      "      \"question_evaluated\": \"In a `while` loop, what happens if the loop condition is always true?\",\n",
      "      \"evaluation\": {\n",
      "        \"relevance_score\": 5,\n",
      "        \"clarity_score\": 5,\n",
      "        \"distractor_plausibility_score\": 4,\n",
      "        \"brief_comment\": \"Tests understanding of infinite loops. Options are clear and plausible.\"\n",
      "      }\n",
      "    },\n",
      "    {\n",
      "      \"question_evaluated\": \"Which of the following control flow statements is primarily used to skip the rest of the current iteration of a loop?\",\n",
      "      \"evaluation\": {\n",
      "        \"relevance_score\": 5,\n",
      "        \"clarity_score\": 5,\n",
      "        \"distractor_plausibility_score\": 5,\n",
      "        \"brief_comment\": \"Clearly asks about 'continue'. All distractors are valid control flow statements, increasing plausibility.\"\n",
      "      }\n",
      "    },\n",
      "    {\n",
      "      \"question_evaluated\": \"Consider the scenario where a `for` loop iterates through a list of lists. What type of loop structure is this?\",\n",
      "      \"evaluation\": {\n",
      "        \"relevance_score\": 5,\n",
      "        \"clarity_score\": 5,\n",
      "        \"distractor_plausibility_score\": 4,\n",
      "        \"brief_comment\": \"Tests knowledge of nested loops in a practical context. Distractors are somewhat plausible.\"\n",
      "      }\n",
      "    },\n",
      "    {\n",
      "      \"question_evaluated\": \"What is the key difference between a `break` and a `continue` statement?\",\n",
      "      \"evaluation\": {\n",
      "        \"relevance_score\": 5,\n",
      "        \"clarity_score\": 5,\n",
      "        \"distractor_plausibility_score\": 5,\n",
      "        \"brief_comment\": \"Addresses a common point of confusion. Options accurately reflect potential misunderstandings.\"\n",
      "      }\n",
      "    },\n",
      "    {\n",
      "      \"question_evaluated\": \"Under what condition does the `else` block following a `for` loop execute?\",\n",
      "      \"evaluation\": {\n",
      "        \"relevance_score\": 5,\n",
      "        \"clarity_score\": 5,\n",
      "        \"distractor_plausibility_score\": 5,\n",
      "        \"brief_comment\": \"Tests understanding of a more advanced loop feature. Options offer a good range of possibilities.\"\n",
      "      }\n",
      "    }\n",
      "  ],\n",
      "  \"overall_feedback\": \"The generated questions effectively assess different aspects of loop control in Python, with good clarity and plausible distractors.\"\n",
      "}\n"
     ]
    }
   ],
   "source": [
    "print(f\">> evaluator_result_2: {evaluator_result_2.text}\")"
   ]
  },
  {
   "cell_type": "code",
   "execution_count": 48,
   "metadata": {},
   "outputs": [],
   "source": [
    "content_with_initial_mcqs_2.append(\n",
    "  types.Content(\n",
    "    role=\"model\",\n",
    "    parts=[\n",
    "      types.Part.from_text(text=f\"Feedback from evaluator: {evaluator_result_2.text}\"),\n",
    "      types.Part.from_text(text=f\"Regenerate MCQs based on the feedback.\"),\n",
    "    ]\n",
    "  )\n",
    ")"
   ]
  },
  {
   "cell_type": "code",
   "execution_count": 49,
   "metadata": {},
   "outputs": [],
   "source": [
    "result_after_feedback_2 = client.models.generate_content(\n",
    "  model=base_model,\n",
    "  contents=content_with_initial_mcqs_2,\n",
    "  config=question_generator_config_1_shot,\n",
    ")"
   ]
  },
  {
   "cell_type": "code",
   "execution_count": 50,
   "metadata": {},
   "outputs": [
    {
     "name": "stdout",
     "output_type": "stream",
     "text": [
      ">> result_after_feedback_2: [\n",
      "  {\n",
      "    \"question_text\": \"What is the term for a loop that continues to execute indefinitely because its termination condition is never met?\",\n",
      "    \"options\": {\n",
      "      \"A\": \"Finite loop\",\n",
      "      \"B\": \"Recursive loop\",\n",
      "      \"C\": \"Infinite loop\",\n",
      "      \"D\": \"Conditional loop\"\n",
      "    },\n",
      "    \"correct_option\": \"C\"\n",
      "  },\n",
      "  {\n",
      "    \"question_text\": \"Which statement, when used inside a loop, will skip the rest of the current iteration and jump to the next iteration?\",\n",
      "    \"options\": {\n",
      "      \"A\": \"pass\",\n",
      "      \"B\": \"skip\",\n",
      "      \"C\": \"break\",\n",
      "      \"D\": \"continue\"\n",
      "    },\n",
      "    \"correct_option\": \"D\"\n",
      "  },\n",
      "  {\n",
      "    \"question_text\": \"What programming structure involves placing one loop inside another?\",\n",
      "    \"options\": {\n",
      "      \"A\": \"Loop fusion\",\n",
      "      \"B\": \"Loop unrolling\",\n",
      "      \"C\": \"Nested loop\",\n",
      "      \"D\": \"Parallel loop\"\n",
      "    },\n",
      "    \"correct_option\": \"C\"\n",
      "  },\n",
      "  {\n",
      "    \"question_text\": \"What is the fundamental difference in functionality between the `break` and `continue` statements within a loop?\",\n",
      "    \"options\": {\n",
      "      \"A\": \"`break` skips one iteration; `continue` stops the loop.\",\n",
      "      \"B\": \"`break` stops the loop; `continue` skips one iteration.\",\n",
      "      \"C\": \"Both statements perform the same function.\",\n",
      "      \"D\": \"`break` can only be used in `for` loops; `continue` can only be used in `while` loops.\"\n",
      "    },\n",
      "    \"correct_option\": \"B\"\n",
      "  },\n",
      "  {\n",
      "    \"question_text\": \"When does the `else` block associated with a `while` loop execute?\",\n",
      "    \"options\": {\n",
      "      \"A\": \"If the initial condition of the `while` loop is false.\",\n",
      "      \"B\": \"If a `break` statement is encountered during the loop's execution.\",\n",
      "      \"C\": \"After the loop has finished executing normally (without encountering a `break` statement).\",\n",
      "      \"D\": \"The `else` block is executed before the `while` loop begins.\"\n",
      "    },\n",
      "    \"correct_option\": \"C\"\n",
      "  }\n",
      "]\n"
     ]
    }
   ],
   "source": [
    "print(f\">> result_after_feedback_2: {result_after_feedback_2.text}\")"
   ]
  }
 ],
 "metadata": {
  "kernelspec": {
   "display_name": "Python 3",
   "language": "python",
   "name": "python3"
  },
  "language_info": {
   "codemirror_mode": {
    "name": "ipython",
    "version": 3
   },
   "file_extension": ".py",
   "mimetype": "text/x-python",
   "name": "python",
   "nbconvert_exporter": "python",
   "pygments_lexer": "ipython3",
   "version": "3.12.6"
  }
 },
 "nbformat": 4,
 "nbformat_minor": 2
}
